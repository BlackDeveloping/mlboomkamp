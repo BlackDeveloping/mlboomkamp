{
  "cells": [
    {
      "cell_type": "markdown",
      "metadata": {
        "id": "Z3M6JrNkB4kB"
      },
      "source": [
        "# Imports"
      ]
    },
    {
      "cell_type": "code",
      "execution_count": 2,
      "metadata": {
        "id": "xp5_CUVVB4je"
      },
      "outputs": [],
      "source": [
        "from scipy.stats import norm\n",
        "import seaborn as sns\n",
        "import pandas as pd\n",
        "import numpy as np"
      ]
    },
    {
      "cell_type": "markdown",
      "source": [
        "# Data loading and EDA"
      ],
      "metadata": {
        "id": "EILD0_rXCdhB"
      }
    },
    {
      "cell_type": "code",
      "execution_count": 1,
      "metadata": {
        "id": "EsCvieY4B4lC"
      },
      "outputs": [],
      "source": [
        "data = 'https://raw.githubusercontent.com/alexeygrigorev/datasets/master/housing.csv'"
      ]
    },
    {
      "cell_type": "code",
      "execution_count": 3,
      "metadata": {
        "colab": {
          "base_uri": "https://localhost:8080/"
        },
        "id": "XWrdbStoB4lD",
        "outputId": "8eb5adda-2fdc-451f-ab90-81839f4c20b9"
      },
      "outputs": [
        {
          "output_type": "stream",
          "name": "stdout",
          "text": [
            "--2022-09-19 18:36:14--  https://raw.githubusercontent.com/alexeygrigorev/datasets/master/housing.csv\n",
            "Resolving raw.githubusercontent.com (raw.githubusercontent.com)... 185.199.108.133, 185.199.109.133, 185.199.110.133, ...\n",
            "Connecting to raw.githubusercontent.com (raw.githubusercontent.com)|185.199.108.133|:443... connected.\n",
            "HTTP request sent, awaiting response... 200 OK\n",
            "Length: 1423529 (1.4M) [text/plain]\n",
            "Saving to: ‘housing.csv’\n",
            "\n",
            "\rhousing.csv           0%[                    ]       0  --.-KB/s               \rhousing.csv         100%[===================>]   1.36M  --.-KB/s    in 0.06s   \n",
            "\n",
            "2022-09-19 18:36:14 (23.4 MB/s) - ‘housing.csv’ saved [1423529/1423529]\n",
            "\n"
          ]
        }
      ],
      "source": [
        "!wget $data "
      ]
    },
    {
      "cell_type": "code",
      "execution_count": 42,
      "metadata": {
        "colab": {
          "base_uri": "https://localhost:8080/",
          "height": 270
        },
        "id": "U591JU58B4lD",
        "outputId": "c979e2a7-9b3a-4947-b72b-ba350518cee8"
      },
      "outputs": [
        {
          "output_type": "execute_result",
          "data": {
            "text/plain": [
              "   longitude  latitude  housing_median_age  total_rooms  total_bedrooms  \\\n",
              "0    -122.23     37.88                41.0        880.0           129.0   \n",
              "1    -122.22     37.86                21.0       7099.0          1106.0   \n",
              "2    -122.24     37.85                52.0       1467.0           190.0   \n",
              "3    -122.25     37.85                52.0       1274.0           235.0   \n",
              "4    -122.25     37.85                52.0       1627.0           280.0   \n",
              "\n",
              "   population  households  median_income  median_house_value ocean_proximity  \n",
              "0       322.0       126.0         8.3252            452600.0        NEAR BAY  \n",
              "1      2401.0      1138.0         8.3014            358500.0        NEAR BAY  \n",
              "2       496.0       177.0         7.2574            352100.0        NEAR BAY  \n",
              "3       558.0       219.0         5.6431            341300.0        NEAR BAY  \n",
              "4       565.0       259.0         3.8462            342200.0        NEAR BAY  "
            ],
            "text/html": [
              "\n",
              "  <div id=\"df-cc12fab4-0dd1-4022-a15d-6fe476827c3b\">\n",
              "    <div class=\"colab-df-container\">\n",
              "      <div>\n",
              "<style scoped>\n",
              "    .dataframe tbody tr th:only-of-type {\n",
              "        vertical-align: middle;\n",
              "    }\n",
              "\n",
              "    .dataframe tbody tr th {\n",
              "        vertical-align: top;\n",
              "    }\n",
              "\n",
              "    .dataframe thead th {\n",
              "        text-align: right;\n",
              "    }\n",
              "</style>\n",
              "<table border=\"1\" class=\"dataframe\">\n",
              "  <thead>\n",
              "    <tr style=\"text-align: right;\">\n",
              "      <th></th>\n",
              "      <th>longitude</th>\n",
              "      <th>latitude</th>\n",
              "      <th>housing_median_age</th>\n",
              "      <th>total_rooms</th>\n",
              "      <th>total_bedrooms</th>\n",
              "      <th>population</th>\n",
              "      <th>households</th>\n",
              "      <th>median_income</th>\n",
              "      <th>median_house_value</th>\n",
              "      <th>ocean_proximity</th>\n",
              "    </tr>\n",
              "  </thead>\n",
              "  <tbody>\n",
              "    <tr>\n",
              "      <th>0</th>\n",
              "      <td>-122.23</td>\n",
              "      <td>37.88</td>\n",
              "      <td>41.0</td>\n",
              "      <td>880.0</td>\n",
              "      <td>129.0</td>\n",
              "      <td>322.0</td>\n",
              "      <td>126.0</td>\n",
              "      <td>8.3252</td>\n",
              "      <td>452600.0</td>\n",
              "      <td>NEAR BAY</td>\n",
              "    </tr>\n",
              "    <tr>\n",
              "      <th>1</th>\n",
              "      <td>-122.22</td>\n",
              "      <td>37.86</td>\n",
              "      <td>21.0</td>\n",
              "      <td>7099.0</td>\n",
              "      <td>1106.0</td>\n",
              "      <td>2401.0</td>\n",
              "      <td>1138.0</td>\n",
              "      <td>8.3014</td>\n",
              "      <td>358500.0</td>\n",
              "      <td>NEAR BAY</td>\n",
              "    </tr>\n",
              "    <tr>\n",
              "      <th>2</th>\n",
              "      <td>-122.24</td>\n",
              "      <td>37.85</td>\n",
              "      <td>52.0</td>\n",
              "      <td>1467.0</td>\n",
              "      <td>190.0</td>\n",
              "      <td>496.0</td>\n",
              "      <td>177.0</td>\n",
              "      <td>7.2574</td>\n",
              "      <td>352100.0</td>\n",
              "      <td>NEAR BAY</td>\n",
              "    </tr>\n",
              "    <tr>\n",
              "      <th>3</th>\n",
              "      <td>-122.25</td>\n",
              "      <td>37.85</td>\n",
              "      <td>52.0</td>\n",
              "      <td>1274.0</td>\n",
              "      <td>235.0</td>\n",
              "      <td>558.0</td>\n",
              "      <td>219.0</td>\n",
              "      <td>5.6431</td>\n",
              "      <td>341300.0</td>\n",
              "      <td>NEAR BAY</td>\n",
              "    </tr>\n",
              "    <tr>\n",
              "      <th>4</th>\n",
              "      <td>-122.25</td>\n",
              "      <td>37.85</td>\n",
              "      <td>52.0</td>\n",
              "      <td>1627.0</td>\n",
              "      <td>280.0</td>\n",
              "      <td>565.0</td>\n",
              "      <td>259.0</td>\n",
              "      <td>3.8462</td>\n",
              "      <td>342200.0</td>\n",
              "      <td>NEAR BAY</td>\n",
              "    </tr>\n",
              "  </tbody>\n",
              "</table>\n",
              "</div>\n",
              "      <button class=\"colab-df-convert\" onclick=\"convertToInteractive('df-cc12fab4-0dd1-4022-a15d-6fe476827c3b')\"\n",
              "              title=\"Convert this dataframe to an interactive table.\"\n",
              "              style=\"display:none;\">\n",
              "        \n",
              "  <svg xmlns=\"http://www.w3.org/2000/svg\" height=\"24px\"viewBox=\"0 0 24 24\"\n",
              "       width=\"24px\">\n",
              "    <path d=\"M0 0h24v24H0V0z\" fill=\"none\"/>\n",
              "    <path d=\"M18.56 5.44l.94 2.06.94-2.06 2.06-.94-2.06-.94-.94-2.06-.94 2.06-2.06.94zm-11 1L8.5 8.5l.94-2.06 2.06-.94-2.06-.94L8.5 2.5l-.94 2.06-2.06.94zm10 10l.94 2.06.94-2.06 2.06-.94-2.06-.94-.94-2.06-.94 2.06-2.06.94z\"/><path d=\"M17.41 7.96l-1.37-1.37c-.4-.4-.92-.59-1.43-.59-.52 0-1.04.2-1.43.59L10.3 9.45l-7.72 7.72c-.78.78-.78 2.05 0 2.83L4 21.41c.39.39.9.59 1.41.59.51 0 1.02-.2 1.41-.59l7.78-7.78 2.81-2.81c.8-.78.8-2.07 0-2.86zM5.41 20L4 18.59l7.72-7.72 1.47 1.35L5.41 20z\"/>\n",
              "  </svg>\n",
              "      </button>\n",
              "      \n",
              "  <style>\n",
              "    .colab-df-container {\n",
              "      display:flex;\n",
              "      flex-wrap:wrap;\n",
              "      gap: 12px;\n",
              "    }\n",
              "\n",
              "    .colab-df-convert {\n",
              "      background-color: #E8F0FE;\n",
              "      border: none;\n",
              "      border-radius: 50%;\n",
              "      cursor: pointer;\n",
              "      display: none;\n",
              "      fill: #1967D2;\n",
              "      height: 32px;\n",
              "      padding: 0 0 0 0;\n",
              "      width: 32px;\n",
              "    }\n",
              "\n",
              "    .colab-df-convert:hover {\n",
              "      background-color: #E2EBFA;\n",
              "      box-shadow: 0px 1px 2px rgba(60, 64, 67, 0.3), 0px 1px 3px 1px rgba(60, 64, 67, 0.15);\n",
              "      fill: #174EA6;\n",
              "    }\n",
              "\n",
              "    [theme=dark] .colab-df-convert {\n",
              "      background-color: #3B4455;\n",
              "      fill: #D2E3FC;\n",
              "    }\n",
              "\n",
              "    [theme=dark] .colab-df-convert:hover {\n",
              "      background-color: #434B5C;\n",
              "      box-shadow: 0px 1px 3px 1px rgba(0, 0, 0, 0.15);\n",
              "      filter: drop-shadow(0px 1px 2px rgba(0, 0, 0, 0.3));\n",
              "      fill: #FFFFFF;\n",
              "    }\n",
              "  </style>\n",
              "\n",
              "      <script>\n",
              "        const buttonEl =\n",
              "          document.querySelector('#df-cc12fab4-0dd1-4022-a15d-6fe476827c3b button.colab-df-convert');\n",
              "        buttonEl.style.display =\n",
              "          google.colab.kernel.accessAllowed ? 'block' : 'none';\n",
              "\n",
              "        async function convertToInteractive(key) {\n",
              "          const element = document.querySelector('#df-cc12fab4-0dd1-4022-a15d-6fe476827c3b');\n",
              "          const dataTable =\n",
              "            await google.colab.kernel.invokeFunction('convertToInteractive',\n",
              "                                                     [key], {});\n",
              "          if (!dataTable) return;\n",
              "\n",
              "          const docLinkHtml = 'Like what you see? Visit the ' +\n",
              "            '<a target=\"_blank\" href=https://colab.research.google.com/notebooks/data_table.ipynb>data table notebook</a>'\n",
              "            + ' to learn more about interactive tables.';\n",
              "          element.innerHTML = '';\n",
              "          dataTable['output_type'] = 'display_data';\n",
              "          await google.colab.output.renderOutput(dataTable, element);\n",
              "          const docLink = document.createElement('div');\n",
              "          docLink.innerHTML = docLinkHtml;\n",
              "          element.appendChild(docLink);\n",
              "        }\n",
              "      </script>\n",
              "    </div>\n",
              "  </div>\n",
              "  "
            ]
          },
          "metadata": {},
          "execution_count": 42
        }
      ],
      "source": [
        "df = pd.read_csv('/content/housing.csv')\n",
        "df.shape\n",
        "df.head()"
      ]
    },
    {
      "cell_type": "code",
      "source": [],
      "metadata": {
        "id": "GZMc4z7vCqPO"
      },
      "execution_count": null,
      "outputs": []
    },
    {
      "cell_type": "markdown",
      "source": [
        "## Q1 missing values"
      ],
      "metadata": {
        "id": "Mna8G2NoCvP6"
      }
    },
    {
      "cell_type": "code",
      "source": [
        "df.info()"
      ],
      "metadata": {
        "colab": {
          "base_uri": "https://localhost:8080/"
        },
        "id": "F5_cKAx9Cyvh",
        "outputId": "d6bdb6d0-e8f8-4033-82f6-5b77ac08be11"
      },
      "execution_count": 8,
      "outputs": [
        {
          "output_type": "stream",
          "name": "stdout",
          "text": [
            "<class 'pandas.core.frame.DataFrame'>\n",
            "RangeIndex: 20640 entries, 0 to 20639\n",
            "Data columns (total 10 columns):\n",
            " #   Column              Non-Null Count  Dtype  \n",
            "---  ------              --------------  -----  \n",
            " 0   longitude           20640 non-null  float64\n",
            " 1   latitude            20640 non-null  float64\n",
            " 2   housing_median_age  20640 non-null  float64\n",
            " 3   total_rooms         20640 non-null  float64\n",
            " 4   total_bedrooms      20433 non-null  float64\n",
            " 5   population          20640 non-null  float64\n",
            " 6   households          20640 non-null  float64\n",
            " 7   median_income       20640 non-null  float64\n",
            " 8   median_house_value  20640 non-null  float64\n",
            " 9   ocean_proximity     20640 non-null  object \n",
            "dtypes: float64(9), object(1)\n",
            "memory usage: 1.6+ MB\n"
          ]
        }
      ]
    },
    {
      "cell_type": "markdown",
      "source": [
        "total_bedrooms have 217 missing values"
      ],
      "metadata": {
        "id": "MqsPrjuHC5kd"
      }
    },
    {
      "cell_type": "markdown",
      "source": [
        "## Q2"
      ],
      "metadata": {
        "id": "Hf3XE526C94i"
      }
    },
    {
      "cell_type": "code",
      "source": [
        "df[\"population\"].median()"
      ],
      "metadata": {
        "colab": {
          "base_uri": "https://localhost:8080/"
        },
        "id": "YS3h46CMC_n_",
        "outputId": "75c8e5c1-337a-45df-b39c-72292d8f8ec7"
      },
      "execution_count": 10,
      "outputs": [
        {
          "output_type": "execute_result",
          "data": {
            "text/plain": [
              "1166.0"
            ]
          },
          "metadata": {},
          "execution_count": 10
        }
      ]
    },
    {
      "cell_type": "markdown",
      "source": [
        "1166"
      ],
      "metadata": {
        "id": "KSblAMz9DJ11"
      }
    },
    {
      "cell_type": "markdown",
      "source": [
        "# Preprocessing"
      ],
      "metadata": {
        "id": "dNT2WGYPDLGo"
      }
    },
    {
      "cell_type": "markdown",
      "source": [
        "## Sklearn Version"
      ],
      "metadata": {
        "id": "pZQ47fhmQOLB"
      }
    },
    {
      "cell_type": "code",
      "source": [
        "from sklearn.utils import shuffle\n",
        "\n",
        "df_shuffled = shuffle(df, random_state=42)\n",
        "df_shuffled = df_shuffled.drop(columns=\"ocean_proximity\")\n",
        "df_shuffled[\"median_house_value\"] = np.log1p(df_shuffled[\"median_house_value\"])\n",
        "\n",
        "n = len(df_shuffled)\n",
        "\n",
        "n_val = int(n * 0.2)\n",
        "n_test = int(n * 0.2)\n",
        "n_train = n - n_val - n_test\n",
        "print(n_val, n_test, n_train)\n",
        "\n",
        "df_train = df_shuffled.iloc[:n_train]\n",
        "df_val = df_shuffled.iloc[n_train:n_train+n_val]\n",
        "df_test = df_shuffled.iloc[n_train+n_val:]"
      ],
      "metadata": {
        "colab": {
          "base_uri": "https://localhost:8080/"
        },
        "id": "fYe6cIwRHWHY",
        "outputId": "07630988-30e5-4a3f-bf25-bddc8d62471c"
      },
      "execution_count": 43,
      "outputs": [
        {
          "output_type": "stream",
          "name": "stdout",
          "text": [
            "4128 4128 12384\n"
          ]
        }
      ]
    },
    {
      "cell_type": "markdown",
      "source": [
        "## Notebook version"
      ],
      "metadata": {
        "id": "esg0nrjLQSQ7"
      }
    },
    {
      "cell_type": "code",
      "source": [
        "df_shuffled = df.drop(columns=\"ocean_proximity\")\n",
        "df_shuffled[\"median_house_value\"] = np.log1p(df_shuffled[\"median_house_value\"].values)\n",
        "\n",
        "n = len(df_shuffled)\n",
        "idx = np.arange(n)\n",
        "np.random.seed(42)\n",
        "np.random.shuffle(idx)\n",
        "\n",
        "df_train = df_shuffled.iloc[idx[:n_train]]\n",
        "df_val = df_shuffled.iloc[idx[n_train:n_train+n_val]]\n",
        "df_test = df_shuffled.iloc[idx[n_train+n_val:]]\n",
        "\n",
        "df_train = df_train.reset_index(drop=True)\n",
        "df_val = df_val.reset_index(drop=True)\n",
        "df_test = df_test.reset_index(drop=True)"
      ],
      "metadata": {
        "id": "HwHDB9ELN4f8"
      },
      "execution_count": 46,
      "outputs": []
    },
    {
      "cell_type": "markdown",
      "source": [
        "# Train and eval"
      ],
      "metadata": {
        "id": "ruh5L30uHTZL"
      }
    },
    {
      "cell_type": "code",
      "source": [
        "def prepare_X(X, val_for_fill):\n",
        "\n",
        "  return X"
      ],
      "metadata": {
        "id": "36kSc6ZCScsW"
      },
      "execution_count": null,
      "outputs": []
    },
    {
      "cell_type": "code",
      "source": [
        "from sklearn.linear_model import LinearRegression\n",
        "from sklearn.metrics import mean_squared_error\n",
        "\n",
        "train_Y = df_train[\"median_house_value\"]\n",
        "train_X = df_train.drop(columns=\"median_house_value\")\n",
        "\n",
        "test_Y = df_test[\"median_house_value\"]\n",
        "test_X = df_test.drop(columns=\"median_house_value\")\n",
        "valid_Y = df_val[\"median_house_value\"]\n",
        "valid_X = df_val.drop(columns=\"median_house_value\")\n",
        "\n",
        "# zero insert\n",
        "train_X[\"total_bedrooms\"] = train_X[\"total_bedrooms\"].fillna(0)\n",
        "valid_X[\"total_bedrooms\"] = valid_X[\"total_bedrooms\"].fillna(0)\n",
        "reg = LinearRegression().fit(train_X, train_Y)\n",
        "valid_preds = reg.predict(valid_X)\n",
        "print(mean_squared_error(valid_Y, valid_preds))\n",
        "\n",
        "# median insert\n",
        "med = train_X[\"total_bedrooms\"].median()\n",
        "train_X[\"total_bedrooms\"] = train_X[\"total_bedrooms\"].fillna(med)\n",
        "valid_X[\"total_bedrooms\"] = valid_X[\"total_bedrooms\"].fillna(med)\n",
        "reg = LinearRegression().fit(train_X, train_Y)\n",
        "valid_preds = reg.predict(valid_X)\n",
        "print(mean_squared_error(valid_Y, valid_preds))"
      ],
      "metadata": {
        "colab": {
          "base_uri": "https://localhost:8080/"
        },
        "id": "qb7nO1_yHZXq",
        "outputId": "79340caf-955e-472a-afe4-7d1a2468d220"
      },
      "execution_count": 39,
      "outputs": [
        {
          "output_type": "stream",
          "name": "stdout",
          "text": [
            "0.1085920221600239\n",
            "0.1085920221600239\n"
          ]
        }
      ]
    },
    {
      "cell_type": "code",
      "source": [
        "def train_linear_regression(X, y):\n",
        "    ones = np.ones(X.shape[0])\n",
        "    X = np.column_stack([ones, X])\n",
        "\n",
        "    XTX = X.T.dot(X)\n",
        "    XTX_inv = np.linalg.inv(XTX)\n",
        "    w_full = XTX_inv.dot(X.T).dot(y)\n",
        "    \n",
        "    return w_full[0], w_full[1:]\n",
        "\n",
        "def rmse(y, y_pred):\n",
        "    se = (y - y_pred) ** 2\n",
        "    mse = se.mean()\n",
        "    return np.sqrt(mse)"
      ],
      "metadata": {
        "id": "SfMGweriRvdQ"
      },
      "execution_count": 48,
      "outputs": []
    },
    {
      "cell_type": "code",
      "source": [
        "train_X[\"total_bedrooms\"] = train_X[\"total_bedrooms\"].fillna(0)\n",
        "valid_X[\"total_bedrooms\"] = valid_X[\"total_bedrooms\"].fillna(0)\n",
        "\n",
        "w0, w = train_linear_regression(train_X, train_Y)\n",
        "y_pred = w0 + valid_X.dot(w)\n",
        "rmse(valid_Y, y_pred)"
      ],
      "metadata": {
        "colab": {
          "base_uri": "https://localhost:8080/"
        },
        "id": "wIsGebZlSGV6",
        "outputId": "f3a271f3-c9ed-441b-8b1c-27ce84c8c974"
      },
      "execution_count": 52,
      "outputs": [
        {
          "output_type": "execute_result",
          "data": {
            "text/plain": [
              "0.32953303652286225"
            ]
          },
          "metadata": {},
          "execution_count": 52
        }
      ]
    },
    {
      "cell_type": "markdown",
      "source": [
        "## Q4 train regul regression"
      ],
      "metadata": {
        "id": "rzjWLKwaTCnH"
      }
    },
    {
      "cell_type": "code",
      "source": [
        "def train_linear_regression_reg(X, y, r=0.001):\n",
        "    ones = np.ones(X.shape[0])\n",
        "    X = np.column_stack([ones, X])\n",
        "\n",
        "    XTX = X.T.dot(X)\n",
        "    XTX = XTX + r * np.eye(XTX.shape[0])\n",
        "\n",
        "    XTX_inv = np.linalg.inv(XTX)\n",
        "    w_full = XTX_inv.dot(X.T).dot(y)\n",
        "    \n",
        "    return w_full[0], w_full[1:]"
      ],
      "metadata": {
        "id": "Ctsi3R4sTHGt"
      },
      "execution_count": 53,
      "outputs": []
    },
    {
      "cell_type": "code",
      "source": [
        "for r in [0, 0.000001, 0.0001, 0.001, 0.01, 0.1, 1, 5, 10]:\n",
        "  w0, w = train_linear_regression_reg(train_X, train_Y, r)\n",
        "  y_pred = w0 + valid_X.dot(w)\n",
        "  print(f\"r: {r}, rmse: {round(rmse(valid_Y, y_pred), 2)}\")"
      ],
      "metadata": {
        "colab": {
          "base_uri": "https://localhost:8080/"
        },
        "id": "M6A3h7hrTL3e",
        "outputId": "f8221053-8ad5-495a-be84-72371c971ffb"
      },
      "execution_count": 59,
      "outputs": [
        {
          "output_type": "stream",
          "name": "stdout",
          "text": [
            "r: 0, rmse: 0.33\n",
            "r: 1e-06, rmse: 0.33\n",
            "r: 0.0001, rmse: 0.33\n",
            "r: 0.001, rmse: 0.33\n",
            "r: 0.01, rmse: 0.33\n",
            "r: 0.1, rmse: 0.33\n",
            "r: 1, rmse: 0.33\n",
            "r: 5, rmse: 0.34\n",
            "r: 10, rmse: 0.34\n"
          ]
        }
      ]
    },
    {
      "cell_type": "markdown",
      "source": [
        "## Q5 different random seed"
      ],
      "metadata": {
        "id": "GFukZuwKUfms"
      }
    },
    {
      "cell_type": "code",
      "source": [
        "def shuffle_split_with_seed(df, n_val=0.2, n_test=0.2, seed=42):\n",
        "  df_shuffled = df.drop(columns=\"ocean_proximity\")\n",
        "  df_shuffled[\"total_bedrooms\"] = df_shuffled[\"total_bedrooms\"].fillna(0)\n",
        "  df_shuffled[\"median_house_value\"] = np.log1p(df_shuffled[\"median_house_value\"].values)\n",
        "\n",
        "  n = len(df_shuffled)\n",
        "  n_val = int(n * n_val)\n",
        "  n_test = int(n * n_test)\n",
        "  n_train = n - n_val - n_test\n",
        "\n",
        "  idx = np.arange(n)\n",
        "  np.random.seed(seed)\n",
        "  np.random.shuffle(idx)\n",
        "\n",
        "  df_train = df_shuffled.iloc[idx[:n_train]]\n",
        "  df_val = df_shuffled.iloc[idx[n_train:n_train+n_val]]\n",
        "  df_test = df_shuffled.iloc[idx[n_train+n_val:]]\n",
        "\n",
        "  df_train = df_train.reset_index(drop=True)\n",
        "  df_val = df_val.reset_index(drop=True)\n",
        "  df_test = df_test.reset_index(drop=True)\n",
        "\n",
        "  train_Y = df_train[\"median_house_value\"]\n",
        "  train_X = df_train.drop(columns=\"median_house_value\")\n",
        "\n",
        "  test_Y = df_test[\"median_house_value\"]\n",
        "  test_X = df_test.drop(columns=\"median_house_value\")\n",
        "  valid_Y = df_val[\"median_house_value\"]\n",
        "  valid_X = df_val.drop(columns=\"median_house_value\")\n",
        "\n",
        "  return train_X, train_Y, test_X, test_Y, valid_X, valid_Y"
      ],
      "metadata": {
        "id": "Ro0JKMKDUj7O"
      },
      "execution_count": 65,
      "outputs": []
    },
    {
      "cell_type": "code",
      "source": [
        "rmses = []\n",
        "for seed in [0, 1, 2, 3, 4, 5, 6, 7, 8, 9]:\n",
        "  train_X, train_Y, test_X, test_Y, valid_X, valid_Y = shuffle_split_with_seed(df, seed=seed)\n",
        "  w0, w = train_linear_regression(train_X, train_Y)\n",
        "  y_pred = w0 + valid_X.dot(w)\n",
        "  rmses.append(rmse(valid_Y, y_pred))\n",
        "  print(f\"seed: {seed}, rmse: {rmse(valid_Y, y_pred)}\")\n",
        "\n",
        "print(round(np.std(rmses), 3))"
      ],
      "metadata": {
        "colab": {
          "base_uri": "https://localhost:8080/"
        },
        "id": "pKfsDvALUj9o",
        "outputId": "8ff9db0b-3f77-45cf-b3f5-9d4698d65f1b"
      },
      "execution_count": 71,
      "outputs": [
        {
          "output_type": "stream",
          "name": "stdout",
          "text": [
            "seed: 0, rmse: 0.33884304805312054\n",
            "seed: 1, rmse: 0.3362387255956152\n",
            "seed: 2, rmse: 0.3320912318841953\n",
            "seed: 3, rmse: 0.34051536090333206\n",
            "seed: 4, rmse: 0.3389024066572496\n",
            "seed: 5, rmse: 0.3434866725718243\n",
            "seed: 6, rmse: 0.3451980953099226\n",
            "seed: 7, rmse: 0.33959899274099314\n",
            "seed: 8, rmse: 0.3466230873184584\n",
            "seed: 9, rmse: 0.33659261241692773\n",
            "0.004\n"
          ]
        }
      ]
    },
    {
      "cell_type": "markdown",
      "source": [
        "## Q6"
      ],
      "metadata": {
        "id": "uJWzTEP6Ufx8"
      }
    },
    {
      "cell_type": "code",
      "source": [
        "train_X, train_Y, test_X, test_Y, valid_X, valid_Y = shuffle_split_with_seed(df, seed=9)\n",
        "train_Xc = pd.concat([train_X, valid_X])\n",
        "train_Yc = pd.concat([train_Y, valid_Y])\n",
        "\n",
        "w0, w = train_linear_regression_reg(train_Xc, train_Yc, r=0.001)\n",
        "y_pred = w0 + test_X.dot(w)\n",
        "print(f\"rmse: {round(rmse(test_Y, y_pred), 2)}\")"
      ],
      "metadata": {
        "colab": {
          "base_uri": "https://localhost:8080/"
        },
        "id": "yUn8FyCoUlgo",
        "outputId": "83e4e3e3-8920-40cc-8b31-63e1e6c77eed"
      },
      "execution_count": 78,
      "outputs": [
        {
          "output_type": "stream",
          "name": "stdout",
          "text": [
            "rmse: 0.35\n"
          ]
        }
      ]
    }
  ],
  "metadata": {
    "kernelspec": {
      "display_name": "Python 3",
      "language": "python",
      "name": "python3"
    },
    "language_info": {
      "codemirror_mode": {
        "name": "ipython",
        "version": 3
      },
      "file_extension": ".py",
      "mimetype": "text/x-python",
      "name": "python",
      "nbconvert_exporter": "python",
      "pygments_lexer": "ipython3",
      "version": "3.8.5"
    },
    "colab": {
      "provenance": [],
      "toc_visible": true
    }
  },
  "nbformat": 4,
  "nbformat_minor": 0
}